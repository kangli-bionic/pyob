{
 "cells": [
  {
   "cell_type": "markdown",
   "metadata": {},
   "source": [
    "# https://github.com/ramalho/pyob"
   ]
  },
  {
   "cell_type": "markdown",
   "metadata": {},
   "source": [
    "<img src=\"img/title-card.png\" width=\"720\" title=\"ThoughtWorks presents Pythonic Objects by Luciano Ramalho\">"
   ]
  },
  {
   "cell_type": "markdown",
   "metadata": {},
   "source": [
    "# Attribute basics\n",
    "\n",
    "## Smalltalk class declaration\n",
    "\n",
    "<img src=\"img/finhist-browser.png\" width=\"720\" title=\"Smallalk-80 class browser\">\n",
    "\n",
    "**Figure 17.17 from Smalltalk-80, the language**\n",
    "<br>Class browser showing definition of a ``FinancialHistory`` class with three instance variables: ``cashOnHand``, ``incomes``, and ``expenditures``.\n",
    "\n",
    "## Official Java tutorial\n",
    "\n",
    "The next two figures are from the **Java Tutorial (Sun/Oracle)**, section [What is an object?](https://docs.oracle.com/javase/tutorial/java/concepts/object.html).\n",
    "\n",
    "An object is depicted as fields surrounded by methods:\n",
    "\n",
    "<img src=\"img/concepts-object.gif\" title=\"An object\">\n",
    "\n",
    "Quoting from [What is an object?](https://docs.oracle.com/javase/tutorial/java/concepts/object.html):\n",
    "\n",
    "> Methods operate on an object's internal state and serve as the primary mechanism for object-to-object communication. Hiding internal state and requiring all interaction to be performed through an object's methods is known as *data encapsulation* — a fundamental principle of object-oriented programming.\n",
    "\n",
    "An object representing a bicyle has methods such as *Change gear* and *Brake*, and fields such as *speed* and *cadence*:\n",
    "\n",
    "<img src=\"img/concepts-bicycleObject.gif\" title=\"A bicycle object\">\n",
    "\n",
    "Code from section [What is a class?](https://docs.oracle.com/javase/tutorial/java/concepts/class.html) from the **Java Tutorial**.\n",
    "\n",
    "```java\n",
    "class Bicycle {\n",
    "\n",
    "    int cadence = 0;\n",
    "    int speed = 0;\n",
    "    int gear = 1;\n",
    "\n",
    "    void changeCadence(int newValue) {\n",
    "         cadence = newValue;\n",
    "    }\n",
    "    \n",
    "    //...\n",
    "}    \n",
    "```"
   ]
  },
  {
   "cell_type": "markdown",
   "metadata": {},
   "source": [
    "## What about Python?\n",
    "\n",
    "### Python terms\n",
    "\n",
    "From the **Python tutorial**, section [9.3.3. Instance Objects](https://docs.python.org/3.7/tutorial/classes.html#instance-objects)\n",
    "\n",
    "> There are two kinds of valid attribute names, data attributes and methods.\n",
    ">\n",
    "> *Data attributes* correspond to “instance variables” in Smalltalk, and to “data members” in C++.\n",
    "\n",
    "In Python, the generic term *attribute* refers to both *fields* and *methods* in Java:\n",
    "\n",
    "Python term    |Java concept\n",
    ":----------    |:-----------\n",
    "attribute      | fields and methods\n",
    "data attribute | field\n",
    "method         | method\n",
    "\n",
    "\n",
    "\n",
    "### Python < 3.6\n",
    "\n",
    "* No way to declare instance variables without assigning.\n",
    "* No way to declare variables at all (except function arguments).\n",
    "* First assignment is the \"declaration\".\n",
    "* Attributes defined in a class body are *class attributes*.\n",
    "\n",
    "\n",
    "### Descriptors\n",
    "\n",
    "Descriptors are defined in a class body, so they are *class attributes*.\n",
    "\n",
    "#### Descriptor examples\n",
    "\n",
    "From [Django Models](https://docs.djangoproject.com/en/2.2/topics/db/models/):\n",
    "\n",
    "```python\n",
    "from django.db import models\n",
    "\n",
    "class Musician(models.Model):\n",
    "    first_name = models.CharField(max_length=50)\n",
    "    last_name = models.CharField(max_length=50)\n",
    "    instrument = models.CharField(max_length=100)\n",
    "\n",
    "class Album(models.Model):\n",
    "    artist = models.ForeignKey(Musician, on_delete=models.CASCADE)\n",
    "    name = models.CharField(max_length=100)\n",
    "    release_date = models.DateField()\n",
    "    num_stars = models.IntegerField()\n",
    "```\n",
    "\n",
    "ORMs use *descriptors* to declare fields (eg. Django, SQLAlchemy) that manage the persistency of the data attributes of instances that are database records.\n",
    "\n",
    "Such data-oriented descriptors are not part of the Python Standard Library—they are provided by external framweorks. "
   ]
  },
  {
   "cell_type": "markdown",
   "metadata": {},
   "source": [
    "## Back to basics\n",
    "\n",
    "Check the version of Python we are using:"
   ]
  },
  {
   "cell_type": "code",
   "execution_count": 1,
   "metadata": {},
   "outputs": [
    {
     "name": "stdout",
     "output_type": "stream",
     "text": [
      "3.7.3 (default, Mar 27 2019, 16:54:48) \n",
      "[Clang 4.0.1 (tags/RELEASE_401/final)]\n"
     ]
    }
   ],
   "source": [
    "import sys\n",
    "print(sys.version)"
   ]
  },
  {
   "cell_type": "markdown",
   "metadata": {},
   "source": [
    "## A simplistic class"
   ]
  },
  {
   "cell_type": "code",
   "execution_count": 2,
   "metadata": {},
   "outputs": [],
   "source": [
    "class Coordinate:\n",
    "    '''Coordinate on Earth'''"
   ]
  },
  {
   "cell_type": "code",
   "execution_count": 3,
   "metadata": {},
   "outputs": [
    {
     "data": {
      "text/plain": [
       "<__main__.Coordinate at 0x10b9f8160>"
      ]
     },
     "execution_count": 3,
     "metadata": {},
     "output_type": "execute_result"
    }
   ],
   "source": [
    "cle = Coordinate()\n",
    "cle.lat = 41.4\n",
    "cle.long = -81.8\n",
    "cle"
   ]
  },
  {
   "cell_type": "code",
   "execution_count": 4,
   "metadata": {},
   "outputs": [
    {
     "data": {
      "text/plain": [
       "41.4"
      ]
     },
     "execution_count": 4,
     "metadata": {},
     "output_type": "execute_result"
    }
   ],
   "source": [
    "cle.lat"
   ]
  },
  {
   "cell_type": "markdown",
   "metadata": {},
   "source": [
    "### First method: ``__repr__``"
   ]
  },
  {
   "cell_type": "code",
   "execution_count": 5,
   "metadata": {},
   "outputs": [],
   "source": [
    "class Coordinate:\n",
    "    '''Coordinate on Earth'''\n",
    "        \n",
    "    def __repr__(self):\n",
    "        return f'Coordinate({self.lat}, {self.long})'   "
   ]
  },
  {
   "cell_type": "code",
   "execution_count": 6,
   "metadata": {},
   "outputs": [
    {
     "data": {
      "text/plain": [
       "Coordinate(41.4, -81.8)"
      ]
     },
     "execution_count": 6,
     "metadata": {},
     "output_type": "execute_result"
    }
   ],
   "source": [
    "cle = Coordinate()\n",
    "cle.lat = 41.4\n",
    "cle.long = -81.8\n",
    "cle"
   ]
  },
  {
   "cell_type": "code",
   "execution_count": 8,
   "metadata": {},
   "outputs": [
    {
     "data": {
      "text/plain": [
       "'Coordinate(41.4, -81.8)'"
      ]
     },
     "execution_count": 8,
     "metadata": {},
     "output_type": "execute_result"
    }
   ],
   "source": [
    "cle.__repr__()"
   ]
  },
  {
   "cell_type": "code",
   "execution_count": 9,
   "metadata": {},
   "outputs": [
    {
     "data": {
      "text/plain": [
       "'Coordinate(41.4, -81.8)'"
      ]
     },
     "execution_count": 9,
     "metadata": {},
     "output_type": "execute_result"
    }
   ],
   "source": [
    "repr(cle)"
   ]
  },
  {
   "cell_type": "markdown",
   "metadata": {},
   "source": [
    "### About ``__repr__``\n",
    "\n",
    "* Good for exploratory programming, documentation, doctests, and debugging.\n",
    "* Best practice: if viable, make ``__repr__`` return string with syntax required to create a new instance like the one inspected (i.e. ``eval(repr(x)) == x``)\n",
    "* If not viable, use ``<MyClass ...>`` with some ``...`` that identifies the particular instance.\n",
    "\n",
    "\n",
    "### ``__repr__`` v. ``__str__``\n",
    "\n",
    "* ``__repr__`` is for programming displays.\n",
    "* ``__str__`` is for end-user displays.\n",
    "\n",
    "### ``__str__`` example"
   ]
  },
  {
   "cell_type": "code",
   "execution_count": 15,
   "metadata": {},
   "outputs": [],
   "source": [
    "class Coordinate:\n",
    "    '''Coordinate on Earth'''\n",
    "    \n",
    "    lat = 0.0\n",
    "    long = 0.0\n",
    "        \n",
    "    def __repr__(self):\n",
    "        return f'Coordinate({self.lat}, {self.long})'\n",
    "    \n",
    "    def __str__(self):\n",
    "        ns = 'NS'[self.lat < 0]\n",
    "        we = 'EW'[self.long < 0]\n",
    "        return f'{abs(self.lat):.1f}°{ns}, {abs(self.long):.1f}°{we}'"
   ]
  },
  {
   "cell_type": "code",
   "execution_count": 11,
   "metadata": {},
   "outputs": [
    {
     "name": "stdout",
     "output_type": "stream",
     "text": [
      "41.4°N, 81.8°W\n"
     ]
    }
   ],
   "source": [
    "cle = Coordinate()\n",
    "cle.lat = 41.4\n",
    "cle.long = -81.8\n",
    "print(cle)"
   ]
  },
  {
   "cell_type": "markdown",
   "metadata": {},
   "source": [
    "### But..."
   ]
  },
  {
   "cell_type": "code",
   "execution_count": 16,
   "metadata": {},
   "outputs": [
    {
     "name": "stdout",
     "output_type": "stream",
     "text": [
      "0.0°N, 0.0°E\n"
     ]
    }
   ],
   "source": [
    "gulf_of_guinea = Coordinate()\n",
    "try:\n",
    "    print(gulf_of_guinea)\n",
    "except AttributeError as e:\n",
    "    print(e)"
   ]
  },
  {
   "cell_type": "markdown",
   "metadata": {},
   "source": [
    "> **Quick fix**: add class attributes to provide defaults."
   ]
  },
  {
   "cell_type": "markdown",
   "metadata": {},
   "source": [
    "## Class attributes as defaults"
   ]
  },
  {
   "cell_type": "code",
   "execution_count": 17,
   "metadata": {},
   "outputs": [],
   "source": [
    "class Pizza:\n",
    "    \n",
    "    diameter = 40  # cm\n",
    "    slices = 8\n",
    "\n",
    "    flavor = 'Cheese'\n",
    "    flavor2 = None"
   ]
  },
  {
   "cell_type": "code",
   "execution_count": 18,
   "metadata": {},
   "outputs": [
    {
     "data": {
      "text/plain": [
       "8"
      ]
     },
     "execution_count": 18,
     "metadata": {},
     "output_type": "execute_result"
    }
   ],
   "source": [
    "p = Pizza()\n",
    "p.slices"
   ]
  },
  {
   "cell_type": "code",
   "execution_count": 19,
   "metadata": {},
   "outputs": [
    {
     "data": {
      "text/plain": [
       "'Cheese'"
      ]
     },
     "execution_count": 19,
     "metadata": {},
     "output_type": "execute_result"
    }
   ],
   "source": [
    "p.flavor"
   ]
  },
  {
   "cell_type": "code",
   "execution_count": 20,
   "metadata": {},
   "outputs": [
    {
     "data": {
      "text/plain": [
       "{}"
      ]
     },
     "execution_count": 20,
     "metadata": {},
     "output_type": "execute_result"
    }
   ],
   "source": [
    "p.__dict__"
   ]
  },
  {
   "cell_type": "code",
   "execution_count": 22,
   "metadata": {},
   "outputs": [
    {
     "data": {
      "text/plain": [
       "{'flavor': 'Sausage'}"
      ]
     },
     "execution_count": 22,
     "metadata": {},
     "output_type": "execute_result"
    }
   ],
   "source": [
    "p.flavor = 'Sausage'\n",
    "p.__dict__"
   ]
  },
  {
   "cell_type": "code",
   "execution_count": 23,
   "metadata": {},
   "outputs": [
    {
     "data": {
      "text/plain": [
       "'Cheese'"
      ]
     },
     "execution_count": 23,
     "metadata": {},
     "output_type": "execute_result"
    }
   ],
   "source": [
    "p2 = Pizza()\n",
    "p2.flavor"
   ]
  },
  {
   "cell_type": "code",
   "execution_count": 24,
   "metadata": {},
   "outputs": [
    {
     "data": {
      "text/plain": [
       "mappingproxy({'__module__': '__main__',\n",
       "              'diameter': 40,\n",
       "              'slices': 8,\n",
       "              'flavor': 'Cheese',\n",
       "              'flavor2': None,\n",
       "              '__dict__': <attribute '__dict__' of 'Pizza' objects>,\n",
       "              '__weakref__': <attribute '__weakref__' of 'Pizza' objects>,\n",
       "              '__doc__': None})"
      ]
     },
     "execution_count": 24,
     "metadata": {},
     "output_type": "execute_result"
    }
   ],
   "source": [
    "Pizza.__dict__"
   ]
  },
  {
   "cell_type": "markdown",
   "metadata": {},
   "source": [
    "## A better pizza"
   ]
  },
  {
   "cell_type": "code",
   "execution_count": 25,
   "metadata": {},
   "outputs": [],
   "source": [
    "class Pizza:\n",
    "\n",
    "    diameter = 40  # cm\n",
    "    slices = 8\n",
    "\n",
    "    def __init__(self, flavor='Cheese', flavor2=None):\n",
    "        self.flavor = flavor\n",
    "        self.flavor2 = flavor2"
   ]
  },
  {
   "cell_type": "markdown",
   "metadata": {},
   "source": [
    "Good practices shown here:\n",
    "\n",
    "* use of *class attributes* for attributes shared by all instances;\n",
    "* attributes that are expected to vary among instances are *instance attributes*;\n",
    "* instance attributes are *all* assigned in ``__init__``;\n",
    "* default values for instance attributes are ``__init__`` argument defaults.\n",
    "\n",
    "[PEP 412 — Key-Sharing Dictionary](https://www.python.org/dev/peps/pep-0412/) introduced an optimization that saves memory when instances of a class have the same instance attribute names set on ``__init__``."
   ]
  },
  {
   "cell_type": "markdown",
   "metadata": {},
   "source": [
    "## Lab #1: enhancing ``Coordinate``\n",
    "\n",
    "\n",
    "Follow instructions at [labs/1/README.rst](https://github.com/ramalho/pyob/blob/master/labs/01-coordinate/README.rst)."
   ]
  },
  {
   "cell_type": "code",
   "execution_count": null,
   "metadata": {},
   "outputs": [],
   "source": [
    "import geohash\n",
    "\n",
    "class Coordinate:\n",
    "    '''Coordinate on Earth'''\n",
    "    \n",
    "    reference_system = 'WGS84'\n",
    "    \n",
    "    def __init__(self, lat, long):\n",
    "        self.lat = lat\n",
    "        self.long = long\n",
    "    \n",
    "    def __repr__(self):\n",
    "        return f'Coordinate({self.lat}, {self.long})'\n",
    "    \n",
    "    def __str__(self):\n",
    "        ns = 'NS'[self.lat < 0]\n",
    "        we = 'WE'[self.long < 0]\n",
    "        return f'{abs(self.lat):.1f}°{ns}, {abs(self.long):.1f}°{we}'\n",
    "    \n",
    "    def geohash(self):\n",
    "        return geohash.encode(self.lat, self.long)\n",
    "    "
   ]
  },
  {
   "cell_type": "code",
   "execution_count": null,
   "metadata": {},
   "outputs": [],
   "source": [
    "cle = Coordinate(41.5, -81.7)\n",
    "cle.geohash()"
   ]
  },
  {
   "cell_type": "code",
   "execution_count": null,
   "metadata": {},
   "outputs": [],
   "source": [
    "from dataclasses import InitVar\n",
    "from typing import ClassVar"
   ]
  },
  {
   "cell_type": "code",
   "execution_count": null,
   "metadata": {},
   "outputs": [],
   "source": [
    "default_flavor = 'Cheese'\n",
    "\n",
    "class Pizza:\n",
    "    \n",
    "    def __init__(self, flavor1=default_flavor, flavor2=None):\n",
    "        self.flavor1 = flavor1\n",
    "        self.flavor2 = flavor2"
   ]
  },
  {
   "cell_type": "code",
   "execution_count": null,
   "metadata": {},
   "outputs": [],
   "source": [
    "InitVar?"
   ]
  },
  {
   "cell_type": "markdown",
   "metadata": {},
   "source": [
    "----\n",
    "\n",
    "## dataclass options\n",
    "\n",
    "```\n",
    "@dataclasses.dataclass(*, \n",
    "    init=True, repr=True, eq=True, order=False, unsafe_hash=False, frozen=False)\n",
    "```\n",
    "\n",
    "<table>\n",
    "<tr><th>option</th><th>default</th><th style=\"text-align: left;\">meaning</th></tr>\n",
    "<tr><td>init</td><td>True</td>\n",
    "    <td style=\"text-align: left;\">generate <code>__init__</code>¹</td></tr>\n",
    "<tr><td>repr</td><td>True</td>\n",
    "    <td style=\"text-align: left;\">generate <code>__repr__</code>¹</td></tr>\n",
    "<tr><td>eq</td><td>True</td>\n",
    "    <td style=\"text-align: left;\">generate <code>__eq__</code>¹</td></tr>\n",
    "<tr><td>order</td><td>False</td>\n",
    "    <td style=\"text-align: left;\">generate <code>__lt__</code>, <code>__le__</code>, <code>__gt__</code>, <code>__ge__</code>²</td></tr>\n",
    "<tr><td>unsafe_hash</td><td>False</td>\n",
    "    <td style=\"text-align: left;\">generate <code>__hash__</code>³</td></tr>\n",
    "<tr><td>frozen</td><td>False</td>\n",
    "    <td style=\"text-align: left;\">make instances \"immutable\" ⁴</td></tr>\n",
    "</table>\n",
    "\n",
    "**Notes**\n",
    "\n",
    "¹ Ignored if the special method is implemented by user.<br>\n",
    "² Raises exceptions if ``eq=False`` or any of the listed special methods are implemented by user.<br>\n",
    "³ Complex semantics and several caveats — see: [dataclass documentation](https://docs.python.org/3/library/dataclasses.html#dataclasses.dataclass).<br>\n",
    "⁴ Not really immutable — imutability is emulated generating ``__setattr__`` and ``__delattr__`` which raise ``dataclass.FrozenInstanceError`` (a subclass of ``AttributeError``)."
   ]
  },
  {
   "cell_type": "code",
   "execution_count": null,
   "metadata": {},
   "outputs": [],
   "source": [
    "import dataclasses\n",
    "dataclasses.FrozenInstanceError.__mro__"
   ]
  },
  {
   "cell_type": "markdown",
   "metadata": {},
   "source": [
    "<img src=\"img/thoughtworks.png\" width=\"300\" title=\"ThoughtWorks, Inc. logo\">\n"
   ]
  }
 ],
 "metadata": {
  "kernelspec": {
   "display_name": "Python 3",
   "language": "python",
   "name": "python3"
  },
  "language_info": {
   "codemirror_mode": {
    "name": "ipython",
    "version": 3
   },
   "file_extension": ".py",
   "mimetype": "text/x-python",
   "name": "python",
   "nbconvert_exporter": "python",
   "pygments_lexer": "ipython3",
   "version": "3.7.3"
  }
 },
 "nbformat": 4,
 "nbformat_minor": 2
}
